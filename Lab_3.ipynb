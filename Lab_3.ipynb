{
 "cells": [
  {
   "cell_type": "code",
   "execution_count": 1,
   "metadata": {},
   "outputs": [],
   "source": [
    "def con(fav):\n",
    "    fav = 42\n",
    "    return fav\n"
   ]
  },
  {
   "cell_type": "code",
   "execution_count": 2,
   "metadata": {},
   "outputs": [
    {
     "name": "stdout",
     "output_type": "stream",
     "text": [
      "Welcome\n",
      "My favorite number # is 7\n"
     ]
    }
   ],
   "source": [
    "if __name__== \"__main__\":\n",
    "    print('Welcome')\n",
    "    fav = 7\n",
    "    con(fav)\n",
    "    print(\"My favorite number # is\", fav)"
   ]
  },
  {
   "cell_type": "markdown",
   "metadata": {},
   "source": [
    "In the main function, Did the value of fav variable change after invoking the main function?\n",
    "- No it did not change.\n",
    "\n",
    "Can you explain the reason behind that? \n",
    "- Because the the parameter passed in is a reference to the object\n"
   ]
  },
  {
   "cell_type": "code",
   "execution_count": 3,
   "metadata": {},
   "outputs": [
    {
     "name": "stdout",
     "output_type": "stream",
     "text": [
      "inside the function: {'A': 28, 'B': 25, 'C': 32, 'D': 25, 'E': 30, 'F': 28}\n",
      "outside the function: {'A': 28, 'B': 25, 'C': 32, 'D': 25, 'E': 30, 'F': 28}\n"
     ]
    }
   ],
   "source": [
    "student = {'A': 28, 'B': 25, 'C': 32, 'D': 25}\n",
    "def test(student):\n",
    "    new = {'E': 30, 'F': 28}\n",
    "    student.update(new)\n",
    "    print('inside the function:', student)\n",
    "test(student)\n",
    "print('outside the function:', student)"
   ]
  },
  {
   "cell_type": "markdown",
   "metadata": {},
   "source": [
    "Are the outputs same in both call? Write your observation below:\n",
    "- Yes,it's the same.\n",
    "\n",
    "Can you explain the difference between the outputs of Example 1 and Example 2??\n",
    "- In the first example the address of the variables is not the same and in the second example the address are the same."
   ]
  },
  {
   "cell_type": "markdown",
   "metadata": {},
   "source": [
    "<h1>Exercise 2.1:</h1>"
   ]
  },
  {
   "cell_type": "code",
   "execution_count": 8,
   "metadata": {},
   "outputs": [
    {
     "name": "stdout",
     "output_type": "stream",
     "text": [
      "Sami Aloufi\n"
     ]
    }
   ],
   "source": [
    "class Student:\n",
    "    def __init__(self, name):\n",
    "        self.name = name \n",
    "        self.courses = [] \n",
    "        self.__age = 21 \n",
    "        self._by = 1998 \n",
    "std = Student('Sami Aloufi')\n",
    "print(std.name)"
   ]
  },
  {
   "cell_type": "code",
   "execution_count": 6,
   "metadata": {},
   "outputs": [
    {
     "name": "stdout",
     "output_type": "stream",
     "text": [
      "Sami\n",
      "['Programming101']\n"
     ]
    }
   ],
   "source": [
    "class student:\n",
    "    def __init__(self,name):\n",
    "        self.name = name\n",
    "        self.course_list=[]\n",
    "        \n",
    "    def add(self,new_cource):\n",
    "        self.course_list.append(new_cource)\n",
    "        \n",
    "std = student(\"Sami\")\n",
    "print(std.name)\n",
    "std.add(\"Programming101\")\n",
    "print(std.course_list)"
   ]
  },
  {
   "cell_type": "markdown",
   "metadata": {},
   "source": [
    "<h1>Exercise 2.2:</h1>"
   ]
  },
  {
   "cell_type": "markdown",
   "metadata": {},
   "source": [
    "Exercise 2.2 In the function add(), the variable course_list is initialized by using the self keyword as we saw in the previous code. To add a new variable to the list we use the built-in function append(). Can you explain why we did that?\n",
    "- Because the function append adds an item to the end of the list"
   ]
  },
  {
   "cell_type": "markdown",
   "metadata": {},
   "source": [
    "<h1>Exercise 2.3:</h1>"
   ]
  },
  {
   "cell_type": "code",
   "execution_count": 13,
   "metadata": {},
   "outputs": [
    {
     "name": "stdout",
     "output_type": "stream",
     "text": [
      "Course name:Programming 102\n",
      "Sami Aloufi\n"
     ]
    }
   ],
   "source": [
    "class Student:\n",
    "    def __init__(self, name):\n",
    "        self.name = name \n",
    "        self.courses = [] \n",
    "        self.__age = 21 \n",
    "        self._by = 1998 \n",
    "        \n",
    "    def add(self, course):\n",
    "        self.courses.append(course)\n",
    "        \n",
    "std = Student('Sami Aloufi')\n",
    "txt = input(\"Course name:\")\n",
    "std.add(txt)\n",
    "print(std.name)"
   ]
  },
  {
   "cell_type": "code",
   "execution_count": 15,
   "metadata": {},
   "outputs": [
    {
     "name": "stdout",
     "output_type": "stream",
     "text": [
      "Sami Aloufi\n"
     ]
    }
   ],
   "source": [
    "class Person:\n",
    "    def __init__(self, fname, lname):\n",
    "        self.fname = fname\n",
    "        self.lname = lname\n",
    "    def printname(self):\n",
    "        print(self.fname, self.lname)\n",
    "class Student(Person):\n",
    "    pass\n",
    "\n",
    "std = Student('Sami', 'Aloufi')\n",
    "std.printname()"
   ]
  },
  {
   "cell_type": "markdown",
   "metadata": {},
   "source": [
    "<h1>Exercise 2.4:</h1>"
   ]
  },
  {
   "cell_type": "markdown",
   "metadata": {},
   "source": [
    "In the code above, the class Professor contains a pass keyword.\n",
    "What did this mean?\n",
    "- It is used as a placeholder for future code to avoid getting an error when an empty code is not llowed. when it's executed nothing happens\n"
   ]
  },
  {
   "cell_type": "markdown",
   "metadata": {},
   "source": [
    "<h1>Exercise 2.5:</h1>"
   ]
  },
  {
   "cell_type": "code",
   "execution_count": 19,
   "metadata": {},
   "outputs": [
    {
     "name": "stdout",
     "output_type": "stream",
     "text": [
      "Sami Aloufi\n"
     ]
    }
   ],
   "source": [
    "class Person:\n",
    "    def __init__(self, fname, lname):\n",
    "        self.fname = fname\n",
    "        self.lname = lname\n",
    "    def printname(self):\n",
    "        print(self.fname, self.lname)\n",
    "class Student(Person):\n",
    "    pass\n",
    "    def __init__(self, fname, lname):\n",
    "        self.fname = fname\n",
    "        self.lname = lname\n",
    "\n",
    "std = Student('Sami', 'Aloufi')\n",
    "std.printname()"
   ]
  },
  {
   "cell_type": "markdown",
   "metadata": {},
   "source": [
    "<h1>Exercise 2.3:</h1>"
   ]
  },
  {
   "cell_type": "code",
   "execution_count": 24,
   "metadata": {},
   "outputs": [
    {
     "name": "stdout",
     "output_type": "stream",
     "text": [
      "21\n"
     ]
    }
   ],
   "source": [
    "class Student(Person):\n",
    "    pass\n",
    "    age = 0\n",
    "    def __init__(self, fname, lname, age):\n",
    "        super(Student, self).__init__(fname, lname)\n",
    "        self.age = age\n",
    "\n",
    "std = Student('Sami', 'Aloufi', 21)\n",
    "print(std.age)"
   ]
  },
  {
   "cell_type": "code",
   "execution_count": null,
   "metadata": {},
   "outputs": [],
   "source": []
  }
 ],
 "metadata": {
  "kernelspec": {
   "display_name": "Python 3",
   "language": "python",
   "name": "python3"
  },
  "language_info": {
   "codemirror_mode": {
    "name": "ipython",
    "version": 3
   },
   "file_extension": ".py",
   "mimetype": "text/x-python",
   "name": "python",
   "nbconvert_exporter": "python",
   "pygments_lexer": "ipython3",
   "version": "3.7.4"
  }
 },
 "nbformat": 4,
 "nbformat_minor": 2
}
